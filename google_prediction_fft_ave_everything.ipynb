{
 "metadata": {
  "name": "",
  "signature": "sha256:05b3e55147ea2a530ceb75479fae1a3ea90d524450c38f2d822c19ae3517f040"
 },
 "nbformat": 3,
 "nbformat_minor": 0,
 "worksheets": [
  {
   "cells": [
    {
     "cell_type": "code",
     "collapsed": false,
     "input": [
      "from __future__ import print_function\n",
      "import numpy as np\n",
      "import googleprediction"
     ],
     "language": "python",
     "metadata": {},
     "outputs": [],
     "prompt_number": 1
    },
    {
     "cell_type": "markdown",
     "metadata": {},
     "source": [
      "Google's APL library is setup to work well with command line applications. Mimic some of that behavior here."
     ]
    },
    {
     "cell_type": "code",
     "collapsed": false,
     "input": [
      "model = googleprediction.GooglePredictor(\n",
      "    \"myproject\",\n",
      "    \"mybucket/X_train_spectra_ave_goog_everything.csv\",\n",
      "    \"tswift_fft_ave_everything\",\n",
      "    \"client_secrets.json\")"
     ],
     "language": "python",
     "metadata": {},
     "outputs": [],
     "prompt_number": 2
    },
    {
     "cell_type": "code",
     "collapsed": false,
     "input": [
      "model.fit('CLASSIFICATION')"
     ],
     "language": "python",
     "metadata": {},
     "outputs": []
    },
    {
     "cell_type": "code",
     "collapsed": false,
     "input": [
      "model.get_params()"
     ],
     "language": "python",
     "metadata": {},
     "outputs": []
    },
    {
     "cell_type": "code",
     "collapsed": false,
     "input": [
      "with np.load(\"data_files.npz\") as data:\n",
      "    X_train = data['X_train']\n",
      "    Y_train = data['Y_train']\n",
      "    X_test = data['X_test']\n",
      "    Y_test = data['Y_test']\n",
      "    X_comp = data['X_comp']\n",
      "del data"
     ],
     "language": "python",
     "metadata": {},
     "outputs": [],
     "prompt_number": 6
    },
    {
     "cell_type": "code",
     "collapsed": false,
     "input": [
      "X_train = np.float64(X_train)\n",
      "X_test = np.float64(X_test)\n",
      "X_comp = np.float64(X_comp)"
     ],
     "language": "python",
     "metadata": {},
     "outputs": [],
     "prompt_number": 7
    },
    {
     "cell_type": "code",
     "collapsed": false,
     "input": [
      "def convert_to_spectra(X):\n",
      "    out = []\n",
      "    for row in X:\n",
      "        xfft = np.fft.fft(row)\n",
      "        n = len(xfft)\n",
      "        half_n = np.ceil(n/2.0)\n",
      "        xfft = (2.0 / n) * xfft[1:half_n]\n",
      "        out.append(np.abs(xfft))\n",
      "    out = np.array(out)\n",
      "    return out"
     ],
     "language": "python",
     "metadata": {},
     "outputs": [],
     "prompt_number": 8
    },
    {
     "cell_type": "code",
     "collapsed": false,
     "input": [
      "X_train_spectra = convert_to_spectra(X_train)\n",
      "X_test_spectra = convert_to_spectra(X_test)\n",
      "X_comp_spectra = convert_to_spectra(X_comp)"
     ],
     "language": "python",
     "metadata": {},
     "outputs": [],
     "prompt_number": 9
    },
    {
     "cell_type": "code",
     "collapsed": false,
     "input": [
      "def moving_average(X, n=3):\n",
      "    ret = []\n",
      "    for row in X:\n",
      "        row = np.cumsum(row)\n",
      "        row[n:] = row[n:] - row[:-n]\n",
      "        row = row[n - 1:] / n\n",
      "        ret.append(row)\n",
      "    ret = np.array(ret)\n",
      "    return ret"
     ],
     "language": "python",
     "metadata": {},
     "outputs": [],
     "prompt_number": 10
    },
    {
     "cell_type": "code",
     "collapsed": false,
     "input": [
      "X_train_spectra = moving_average(X_train_spectra, n=5)\n",
      "X_test_spectra = moving_average(X_test_spectra, n=5)\n",
      "X_comp_spectra = moving_average(X_comp_spectra, n=5)"
     ],
     "language": "python",
     "metadata": {},
     "outputs": [],
     "prompt_number": 11
    },
    {
     "cell_type": "code",
     "collapsed": false,
     "input": [
      "X_train_spectra = np.int16(X_train_spectra)\n",
      "X_test_spectra = np.int16(X_test_spectra)\n",
      "X_comp_spectra = np.int16(X_comp_spectra)"
     ],
     "language": "python",
     "metadata": {},
     "outputs": [],
     "prompt_number": 12
    },
    {
     "cell_type": "code",
     "collapsed": false,
     "input": [
      "X_comp_spectra.shape"
     ],
     "language": "python",
     "metadata": {},
     "outputs": [
      {
       "metadata": {},
       "output_type": "pyout",
       "prompt_number": 13,
       "text": [
        "(9600, 1662)"
       ]
      }
     ],
     "prompt_number": 13
    },
    {
     "cell_type": "code",
     "collapsed": false,
     "input": [
      "Y_comp_spectra = model.predict(X_comp_spectra)"
     ],
     "language": "python",
     "metadata": {},
     "outputs": [
      {
       "output_type": "stream",
       "stream": "stdout",
       "text": [
        "\n",
        "=======================\n",
        "Making some predictions\n",
        "=======================\n"
       ]
      }
     ],
     "prompt_number": 14
    },
    {
     "cell_type": "code",
     "collapsed": false,
     "input": [
      "np.savetxt(\"gpapi_Y_comp_spectra_ave_everything.csv\", np.array(Y_comp_spectra, dtype=int), delimiter=',', fmt='%i')"
     ],
     "language": "python",
     "metadata": {},
     "outputs": [],
     "prompt_number": 15
    },
    {
     "cell_type": "code",
     "collapsed": false,
     "input": [],
     "language": "python",
     "metadata": {},
     "outputs": []
    }
   ],
   "metadata": {}
  }
 ]
}